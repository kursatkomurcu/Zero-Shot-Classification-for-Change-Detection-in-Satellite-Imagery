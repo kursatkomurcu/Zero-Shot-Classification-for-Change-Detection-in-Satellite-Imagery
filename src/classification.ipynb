{
 "cells": [
  {
   "cell_type": "code",
   "execution_count": 1,
   "metadata": {},
   "outputs": [],
   "source": [
    "import ast\n",
    "import csv\n",
    "import numpy as np\n",
    "import pandas as pd\n",
    "from sklearn.metrics import f1_score, recall_score, precision_score, accuracy_score\n",
    "import matplotlib.pyplot as plt\n",
    "\n",
    "feature_names = [\"landscape\", \"forest\", \"building\", \"road\", \"vehicle\", \"bridge\", \"river\", \"lake\",\n",
    "                 \"farmland\", \"airport\", \"runway\", \"ship\", \"railway\", \"parking lot\", \"cloud\", \"wind turbine\",\n",
    "                 \"stadium\", \"school\", \"hospital\", \"industrial site\", \"park\", \"beach\", \"mountain\", \"glacier\",\n",
    "                 \"desert\", \"volcano\", \"crater\", \"island\", \"wetland\", \"quarry\", \"dam\", \"residential area\"]"
   ]
  },
  {
   "cell_type": "code",
   "execution_count": 6,
   "metadata": {},
   "outputs": [],
   "source": [
    "df = pd.read_csv('train_LEVIR-CD_Dataset_Differences.csv')\n",
    "labels = np.array(df['change'])\n",
    "\n",
    "differences_matrix = df['differences'].apply(ast.literal_eval).tolist()\n",
    "differences_matrix = np.array(differences_matrix)\n",
    "\n",
    "df2 = pd.read_csv('test_LEVIR-CD_Dataset_Differences.csv')\n",
    "labels2 = np.array(df2['change'])\n",
    "\n",
    "differences_matrix2 = df2['differences'].apply(ast.literal_eval).tolist()\n",
    "differences_matrix2 = np.array(differences_matrix2)"
   ]
  },
  {
   "cell_type": "markdown",
   "metadata": {},
   "source": [
    "Simple Classification"
   ]
  },
  {
   "cell_type": "code",
   "execution_count": 11,
   "metadata": {},
   "outputs": [],
   "source": [
    "# All classes were summed\n",
    "differences_matrix_sum = np.sum(differences_matrix, axis=1)\n",
    "T_list = np.linspace(0, 1, 10000)\n",
    "\n",
    "f1_list = []\n",
    "recall_list = []\n",
    "precision_list = []\n",
    "accuracy_list = []\n",
    "for T in T_list:\n",
    "    predicted = (differences_matrix_sum[:] > T).astype(int)\n",
    "    \n",
    "    f1 = f1_score(labels[:], predicted)\n",
    "    f1_list.append(f1)\n",
    "\n",
    "    recall = recall_score(labels[:], predicted)\n",
    "    recall_list.append(recall)\n",
    "\n",
    "    precision = precision_score(labels[:], predicted)\n",
    "    precision_list.append(precision)\n",
    "\n",
    "    accuracy = accuracy_score(labels[:], predicted)\n",
    "    accuracy_list.append(accuracy)\n",
    "\n",
    "idx1 = np.argmax(f1_list)\n",
    "idx2 = np.argmax(recall_list)\n",
    "idx3 = np.argmax(precision_list)\n",
    "idx4 = np.argmax(accuracy_list)\n",
    "\n",
    "print(\"Training Results:\")\n",
    "print(\"Optimal T={} based on F1 statistic: {}\".format(T_list[idx1], f1_list[idx1]))\n",
    "print(\"Optimal T={} based on Recall statistic: {}\".format(T_list[idx2], recall_list[idx2]))\n",
    "print(\"Optimal T={} based on Precision statistic: {}\".format(T_list[idx3], precision_list[idx3]))\n",
    "print(\"Optimal T={} based on Accuracy statistic: {}\".format(T_list[idx4], accuracy_list[idx4]))\n",
    "print(\"\\n\")\n",
    "\n",
    "predicted_f1 = (differences_matrix2[:] > T_list[idx1]).astype(int)\n",
    "predicted_recall = (differences_matrix2[:] > T_list[idx2]).astype(int)\n",
    "predicted_precision = (differences_matrix2[:] > T_list[idx3]).astype(int)\n",
    "predicted_accuracy = (differences_matrix2[:] > T_list[idx4]).astype(int)\n",
    "print(predicted_f1)\n",
    "print(labels2[:])\n",
    "f1 = f1_score(labels2[:], predicted_f1)\n",
    "recall = recall_score(labels2[:], predicted_recall)\n",
    "precision = precision_score(labels2[:], predicted_precision)\n",
    "accuracy = accuracy_score(labels2[:], predicted_accuracy)\n",
    "\n",
    "print(\"Test Results\")\n",
    "print(\"F1 statistic: {}\".format(f1))\n",
    "print(\"Recall statistic: {}\".format(recall))\n",
    "print(\"Precision statistic: {}\".format(precision))\n",
    "print(\"Accuracy statistic: {}\".format(accuracy))"
   ]
  },
  {
   "cell_type": "code",
   "execution_count": 4,
   "metadata": {},
   "outputs": [
    {
     "data": {
      "text/plain": [
       "0.5203030303030303"
      ]
     },
     "execution_count": 4,
     "metadata": {},
     "output_type": "execute_result"
    }
   ],
   "source": [
    "np.mean(labels)"
   ]
  },
  {
   "cell_type": "code",
   "execution_count": 38,
   "metadata": {},
   "outputs": [],
   "source": [
    "df['y'] = differences_matrix_sum"
   ]
  },
  {
   "cell_type": "code",
   "execution_count": 39,
   "metadata": {},
   "outputs": [
    {
     "data": {
      "image/png": "[encoded data removed]",
      "text/plain": [
       "<Figure size 640x480 with 1 Axes>"
      ]
     },
     "metadata": {},
     "output_type": "display_data"
    }
   ],
   "source": [
    "import seaborn as sns\n",
    "import matplotlib.pyplot as plt\n",
    "\n",
    "sns.barplot(x = 'change', y = 'y', data = df)\n",
    "plt.show()"
   ]
  },
  {
   "cell_type": "markdown",
   "metadata": {},
   "source": [
    "Machine Learning Classification"
   ]
  },
  {
   "cell_type": "code",
   "execution_count": 40,
   "metadata": {},
   "outputs": [],
   "source": [
    "from sklearn.model_selection import train_test_split\n",
    "\n",
    "x_train, x_test, y_train, y_test = train_test_split(differences_matrix, labels, test_size=0.3)"
   ]
  },
  {
   "cell_type": "markdown",
   "metadata": {},
   "source": [
    "Decision Tree"
   ]
  },
  {
   "cell_type": "code",
   "execution_count": 41,
   "metadata": {},
   "outputs": [
    {
     "name": "stdout",
     "output_type": "stream",
     "text": [
      "F1 Score:  0.9568589432864761\n",
      "Recall Score:  0.9527027027027027\n",
      "Precision:  0.9610516066212269\n",
      "Accuracy:  0.955050505050505\n",
      "\n",
      "\n",
      "F1 Score:  0.9541864139020538\n",
      "Recall Score:  0.934984520123839\n",
      "Precision:  0.9741935483870968\n",
      "Accuracy:  0.9147058823529411\n"
     ]
    }
   ],
   "source": [
    "from sklearn.tree import DecisionTreeClassifier\n",
    "\n",
    "dt = DecisionTreeClassifier()\n",
    "dt = dt.fit(x_train, y_train)\n",
    "\n",
    "y_pred = dt.predict(x_test)\n",
    "\n",
    "print(\"F1 Score: \", f1_score(y_test, y_pred))\n",
    "print(\"Recall Score: \", recall_score(y_test, y_pred))\n",
    "print(\"Precision: \", precision_score(y_test, y_pred))\n",
    "print(\"Accuracy: \", accuracy_score(y_test, y_pred))\n",
    "print('\\n')\n",
    "# For test set\n",
    "y_pred2 = dt.predict(differences_matrix2)\n",
    "\n",
    "print(\"F1 Score: \", f1_score(labels2, y_pred2))\n",
    "print(\"Recall Score: \", recall_score(labels2, y_pred2))\n",
    "print(\"Precision: \", precision_score(labels2, y_pred2))\n",
    "print(\"Accuracy: \", accuracy_score(labels2, y_pred2))\n"
   ]
  },
  {
   "cell_type": "markdown",
   "metadata": {},
   "source": [
    "RF"
   ]
  },
  {
   "cell_type": "code",
   "execution_count": 42,
   "metadata": {},
   "outputs": [
    {
     "name": "stdout",
     "output_type": "stream",
     "text": [
      "F1 Score:  0.9786830885836095\n",
      "Recall Score:  0.997104247104247\n",
      "Precision:  0.9609302325581396\n",
      "Accuracy:  0.9772727272727273\n",
      "\n",
      "\n",
      "F1 Score:  0.9787234042553192\n",
      "Recall Score:  0.9969040247678018\n",
      "Precision:  0.9611940298507463\n",
      "Accuracy:  0.9588235294117647\n"
     ]
    }
   ],
   "source": [
    "from sklearn.ensemble import RandomForestClassifier\n",
    "\n",
    "rf = RandomForestClassifier()\n",
    "rf = rf.fit(x_train, y_train)\n",
    "\n",
    "y_pred = rf.predict(x_test)\n",
    "\n",
    "print(\"F1 Score: \", f1_score(y_test, y_pred))\n",
    "print(\"Recall Score: \", recall_score(y_test, y_pred))\n",
    "print(\"Precision: \", precision_score(y_test, y_pred))\n",
    "print(\"Accuracy: \", accuracy_score(y_test, y_pred))\n",
    "print('\\n')\n",
    "# For test set\n",
    "y_pred2 = rf.predict(differences_matrix2)\n",
    "\n",
    "print(\"F1 Score: \", f1_score(labels2, y_pred2))\n",
    "print(\"Recall Score: \", recall_score(labels2, y_pred2))\n",
    "print(\"Precision: \", precision_score(labels2, y_pred2))\n",
    "print(\"Accuracy: \", accuracy_score(labels2, y_pred2))"
   ]
  },
  {
   "cell_type": "markdown",
   "metadata": {},
   "source": [
    "Gradient Boosting"
   ]
  },
  {
   "cell_type": "code",
   "execution_count": 43,
   "metadata": {},
   "outputs": [
    {
     "name": "stdout",
     "output_type": "stream",
     "text": [
      "F1 Score:  0.9770992366412213\n",
      "Recall Score:  0.9884169884169884\n",
      "Precision:  0.9660377358490566\n",
      "Accuracy:  0.9757575757575757\n",
      "\n",
      "\n",
      "F1 Score:  0.9755351681957186\n",
      "Recall Score:  0.9876160990712074\n",
      "Precision:  0.9637462235649547\n",
      "Accuracy:  0.9529411764705882\n"
     ]
    }
   ],
   "source": [
    "from sklearn.ensemble import GradientBoostingClassifier\n",
    "\n",
    "gb = GradientBoostingClassifier()\n",
    "gb = gb.fit(x_train, y_train)\n",
    "\n",
    "y_pred = gb.predict(x_test)\n",
    "\n",
    "print(\"F1 Score: \", f1_score(y_test, y_pred))\n",
    "print(\"Recall Score: \", recall_score(y_test, y_pred))\n",
    "print(\"Precision: \", precision_score(y_test, y_pred))\n",
    "print(\"Accuracy: \", accuracy_score(y_test, y_pred))\n",
    "print('\\n')\n",
    "# For test set\n",
    "y_pred2 = gb.predict(differences_matrix2)\n",
    "\n",
    "print(\"F1 Score: \", f1_score(labels2, y_pred2))\n",
    "print(\"Recall Score: \", recall_score(labels2, y_pred2))\n",
    "print(\"Precision: \", precision_score(labels2, y_pred2))\n",
    "print(\"Accuracy: \", accuracy_score(labels2, y_pred2))"
   ]
  },
  {
   "cell_type": "markdown",
   "metadata": {},
   "source": [
    "XGBoost"
   ]
  },
  {
   "cell_type": "code",
   "execution_count": 44,
   "metadata": {},
   "outputs": [
    {
     "name": "stdout",
     "output_type": "stream",
     "text": [
      "F1 Score:  0.9828734538534729\n",
      "Recall Score:  0.997104247104247\n",
      "Precision:  0.9690431519699813\n",
      "Accuracy:  0.9818181818181818\n",
      "\n",
      "\n",
      "F1 Score:  0.9785932721712539\n",
      "Recall Score:  0.9907120743034056\n",
      "Precision:  0.9667673716012085\n",
      "Accuracy:  0.9588235294117647\n"
     ]
    }
   ],
   "source": [
    "import xgboost as xgb\n",
    "\n",
    "XGB = xgb.XGBClassifier()\n",
    "XGB = XGB.fit(x_train, y_train)\n",
    "\n",
    "y_pred = XGB.predict(x_test)\n",
    "\n",
    "print(\"F1 Score: \", f1_score(y_test, y_pred))\n",
    "print(\"Recall Score: \", recall_score(y_test, y_pred))\n",
    "print(\"Precision: \", precision_score(y_test, y_pred))\n",
    "print(\"Accuracy: \", accuracy_score(y_test, y_pred))\n",
    "print('\\n')\n",
    "# For test set\n",
    "y_pred2 = XGB.predict(differences_matrix2)\n",
    "\n",
    "print(\"F1 Score: \", f1_score(labels2, y_pred2))\n",
    "print(\"Recall Score: \", recall_score(labels2, y_pred2))\n",
    "print(\"Precision: \", precision_score(labels2, y_pred2))\n",
    "print(\"Accuracy: \", accuracy_score(labels2, y_pred2))"
   ]
  },
  {
   "cell_type": "code",
   "execution_count": 45,
   "metadata": {},
   "outputs": [],
   "source": [
    "feature_importances = dt.feature_importances_"
   ]
  },
  {
   "cell_type": "code",
   "execution_count": 46,
   "metadata": {},
   "outputs": [
    {
     "data": {
      "image/png": "[encoded data removed]",
      "text/plain": [
       "<Figure size 640x480 with 1 Axes>"
      ]
     },
     "metadata": {},
     "output_type": "display_data"
    }
   ],
   "source": [
    "# plt.figure(figsize=(12, 10))\n",
    "plt.barh(feature_names, feature_importances, align='center')\n",
    "plt.xlabel(\"Feature Importance\")\n",
    "plt.ylabel(\"Feature\")\n",
    "plt.gca().invert_yaxis()  # En önemli özelliği üstte göstermek için\n",
    "plt.show()"
   ]
  }
 ],
 "metadata": {
  "kernelspec": {
   "display_name": "myEnv",
   "language": "python",
   "name": "python3"
  },
  "language_info": {
   "codemirror_mode": {
    "name": "ipython",
    "version": 3
   },
   "file_extension": ".py",
   "mimetype": "text/x-python",
   "name": "python",
   "nbconvert_exporter": "python",
   "pygments_lexer": "ipython3",
   "version": "3.10.14"
  }
 },
 "nbformat": 4,
 "nbformat_minor": 2
}
