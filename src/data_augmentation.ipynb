{
 "cells": [
  {
   "cell_type": "code",
   "execution_count": 3,
   "metadata": {},
   "outputs": [],
   "source": [
    "from PIL import Image, ImageOps\n",
    "import numpy as np\n",
    "import random\n",
    "import os\n",
    "import cv2"
   ]
  },
  {
   "cell_type": "code",
   "execution_count": 4,
   "metadata": {},
   "outputs": [],
   "source": [
    "def augment_image(image_path, output_dir, augmentation_count=5):\n",
    "    \"\"\"    \n",
    "    Args:\n",
    "    - image_path (str): path of the image.\n",
    "    - output_dir (str): saving path.\n",
    "    - augmentation_count (int): augmented image number.\n",
    "    \"\"\"\n",
    "    image = Image.open(image_path)\n",
    "    base_name = os.path.basename(image_path).split('.')[0]\n",
    "    \n",
    "    for i in range(augmentation_count):\n",
    "        rotation = random.randint(-90, 90)\n",
    "        resize_scale = random.uniform(0.5, 1.5)\n",
    "        new_size = (int(image.width * resize_scale), int(image.height * resize_scale))\n",
    "        \n",
    "        rotated_image = image.rotate(rotation)\n",
    "        resized_image = rotated_image.resize(new_size, Image.Resampling.LANCZOS)\n",
    "        \n",
    "        output_path = os.path.join(output_dir, f'{base_name}_aug_{i}.jpg')\n",
    "        resized_image.save(output_path)"
   ]
  },
  {
   "cell_type": "code",
   "execution_count": null,
   "metadata": {},
   "outputs": [],
   "source": [
    "folder_path = 'DSIFN/train/t1'\n",
    "output_dir = 'DSIFN_augmented_images'\n",
    "max_image_number = 3000\n",
    "\n",
    "if not os.path.exists(output_dir):\n",
    "    os.makedirs(output_dir)\n",
    "\n",
    "files = os.listdir(folder_path)[:max_image_number]\n",
    "for image in files:\n",
    "    image_path = folder_path + '/' + image\n",
    "    augment_image(image_path, output_dir, augmentation_count=1)"
   ]
  },
  {
   "cell_type": "code",
   "execution_count": 5,
   "metadata": {},
   "outputs": [],
   "source": [
    "def add_gaussian_noise(image, variance=0.005):\n",
    "    \"\"\"\n",
    "    Adding gaussian niose\n",
    "    :param image: image.\n",
    "    :param variance: Variance of the noise.\n",
    "    :return: Noisy image.\n",
    "    \"\"\"\n",
    "    row, col, channel = image.shape\n",
    "    mean = 0\n",
    "    sigma = variance**0.5\n",
    "    gauss = np.random.normal(mean, sigma, (row, col, channel))\n",
    "    gauss = gauss.reshape(row, col, channel)\n",
    "    noisy_image = image + gauss\n",
    "    noisy_image = np.clip(noisy_image, 0, 255).astype(np.uint8)\n",
    "    return noisy_image"
   ]
  },
  {
   "cell_type": "code",
   "execution_count": 8,
   "metadata": {},
   "outputs": [],
   "source": [
    "folder_path = 'augmented_S2Looking/Image1' \n",
    "noisy_folder = 'augmented_S2Looking/Image2' \n",
    "\n",
    "files = os.listdir(folder_path)\n",
    "for image in files:\n",
    "    image_path = folder_path + '/' + image\n",
    "    img = cv2.imread(image_path)\n",
    "    noisy_image = add_gaussian_noise(img)\n",
    "    cv2.imwrite(os.path.join(noisy_folder, image), noisy_image)"
   ]
  }
 ],
 "metadata": {
  "kernelspec": {
   "display_name": "myEnv",
   "language": "python",
   "name": "python3"
  },
  "language_info": {
   "codemirror_mode": {
    "name": "ipython",
    "version": 3
   },
   "file_extension": ".py",
   "mimetype": "text/x-python",
   "name": "python",
   "nbconvert_exporter": "python",
   "pygments_lexer": "ipython3",
   "version": "3.11.7"
  }
 },
 "nbformat": 4,
 "nbformat_minor": 2
}
